{
 "cells": [
  {
   "cell_type": "code",
   "execution_count": 1,
   "id": "5c1a6ffb-a256-4f69-868a-1c76410f2154",
   "metadata": {},
   "outputs": [
    {
     "name": "stdout",
     "output_type": "stream",
     "text": [
      "Requirement already satisfied: ipykernel in c:\\users\\ewa_n\\onedrive\\desktop\\kurs data science\\sda1\\przetwarzaniezbiorowdanych\\venv_ewa_sda\\lib\\site-packages (6.15.1)\n",
      "Requirement already satisfied: nest-asyncio in c:\\users\\ewa_n\\onedrive\\desktop\\kurs data science\\sda1\\przetwarzaniezbiorowdanych\\venv_ewa_sda\\lib\\site-packages (from ipykernel) (1.5.5)\n",
      "Requirement already satisfied: pyzmq>=17 in c:\\users\\ewa_n\\onedrive\\desktop\\kurs data science\\sda1\\przetwarzaniezbiorowdanych\\venv_ewa_sda\\lib\\site-packages (from ipykernel) (23.2.0)\n",
      "Requirement already satisfied: tornado>=6.1 in c:\\users\\ewa_n\\onedrive\\desktop\\kurs data science\\sda1\\przetwarzaniezbiorowdanych\\venv_ewa_sda\\lib\\site-packages (from ipykernel) (6.2)\n",
      "Requirement already satisfied: psutil in c:\\users\\ewa_n\\onedrive\\desktop\\kurs data science\\sda1\\przetwarzaniezbiorowdanych\\venv_ewa_sda\\lib\\site-packages (from ipykernel) (5.9.1)\n",
      "Requirement already satisfied: traitlets>=5.1.0 in c:\\users\\ewa_n\\onedrive\\desktop\\kurs data science\\sda1\\przetwarzaniezbiorowdanych\\venv_ewa_sda\\lib\\site-packages (from ipykernel) (5.3.0)\n",
      "Requirement already satisfied: debugpy>=1.0 in c:\\users\\ewa_n\\onedrive\\desktop\\kurs data science\\sda1\\przetwarzaniezbiorowdanych\\venv_ewa_sda\\lib\\site-packages (from ipykernel) (1.6.2)\n",
      "Requirement already satisfied: ipython>=7.23.1 in c:\\users\\ewa_n\\onedrive\\desktop\\kurs data science\\sda1\\przetwarzaniezbiorowdanych\\venv_ewa_sda\\lib\\site-packages (from ipykernel) (8.4.0)\n",
      "Requirement already satisfied: packaging in c:\\users\\ewa_n\\onedrive\\desktop\\kurs data science\\sda1\\przetwarzaniezbiorowdanych\\venv_ewa_sda\\lib\\site-packages (from ipykernel) (21.3)\n",
      "Requirement already satisfied: jupyter-client>=6.1.12 in c:\\users\\ewa_n\\onedrive\\desktop\\kurs data science\\sda1\\przetwarzaniezbiorowdanych\\venv_ewa_sda\\lib\\site-packages (from ipykernel) (7.3.4)\n",
      "Requirement already satisfied: matplotlib-inline>=0.1 in c:\\users\\ewa_n\\onedrive\\desktop\\kurs data science\\sda1\\przetwarzaniezbiorowdanych\\venv_ewa_sda\\lib\\site-packages (from ipykernel) (0.1.3)\n",
      "Requirement already satisfied: stack-data in c:\\users\\ewa_n\\onedrive\\desktop\\kurs data science\\sda1\\przetwarzaniezbiorowdanych\\venv_ewa_sda\\lib\\site-packages (from ipython>=7.23.1->ipykernel) (0.3.0)\n",
      "Requirement already satisfied: prompt-toolkit!=3.0.0,!=3.0.1,<3.1.0,>=2.0.0 in c:\\users\\ewa_n\\onedrive\\desktop\\kurs data science\\sda1\\przetwarzaniezbiorowdanych\\venv_ewa_sda\\lib\\site-packages (from ipython>=7.23.1->ipykernel) (3.0.30)\n",
      "Requirement already satisfied: setuptools>=18.5 in c:\\users\\ewa_n\\onedrive\\desktop\\kurs data science\\sda1\\przetwarzaniezbiorowdanych\\venv_ewa_sda\\lib\\site-packages (from ipython>=7.23.1->ipykernel) (62.3.4)\n",
      "Requirement already satisfied: decorator in c:\\users\\ewa_n\\onedrive\\desktop\\kurs data science\\sda1\\przetwarzaniezbiorowdanych\\venv_ewa_sda\\lib\\site-packages (from ipython>=7.23.1->ipykernel) (5.1.1)\n",
      "Requirement already satisfied: colorama in c:\\users\\ewa_n\\onedrive\\desktop\\kurs data science\\sda1\\przetwarzaniezbiorowdanych\\venv_ewa_sda\\lib\\site-packages (from ipython>=7.23.1->ipykernel) (0.4.5)\n",
      "Requirement already satisfied: backcall in c:\\users\\ewa_n\\onedrive\\desktop\\kurs data science\\sda1\\przetwarzaniezbiorowdanych\\venv_ewa_sda\\lib\\site-packages (from ipython>=7.23.1->ipykernel) (0.2.0)\n",
      "Requirement already satisfied: jedi>=0.16 in c:\\users\\ewa_n\\onedrive\\desktop\\kurs data science\\sda1\\przetwarzaniezbiorowdanych\\venv_ewa_sda\\lib\\site-packages (from ipython>=7.23.1->ipykernel) (0.18.1)\n",
      "Requirement already satisfied: pygments>=2.4.0 in c:\\users\\ewa_n\\onedrive\\desktop\\kurs data science\\sda1\\przetwarzaniezbiorowdanych\\venv_ewa_sda\\lib\\site-packages (from ipython>=7.23.1->ipykernel) (2.12.0)\n",
      "Requirement already satisfied: pickleshare in c:\\users\\ewa_n\\onedrive\\desktop\\kurs data science\\sda1\\przetwarzaniezbiorowdanych\\venv_ewa_sda\\lib\\site-packages (from ipython>=7.23.1->ipykernel) (0.7.5)\n",
      "Requirement already satisfied: jupyter-core>=4.9.2 in c:\\users\\ewa_n\\onedrive\\desktop\\kurs data science\\sda1\\przetwarzaniezbiorowdanych\\venv_ewa_sda\\lib\\site-packages (from jupyter-client>=6.1.12->ipykernel) (4.11.1)\n",
      "Requirement already satisfied: python-dateutil>=2.8.2 in c:\\users\\ewa_n\\onedrive\\desktop\\kurs data science\\sda1\\przetwarzaniezbiorowdanych\\venv_ewa_sda\\lib\\site-packages (from jupyter-client>=6.1.12->ipykernel) (2.8.2)\n",
      "Requirement already satisfied: entrypoints in c:\\users\\ewa_n\\onedrive\\desktop\\kurs data science\\sda1\\przetwarzaniezbiorowdanych\\venv_ewa_sda\\lib\\site-packages (from jupyter-client>=6.1.12->ipykernel) (0.4)\n",
      "Requirement already satisfied: pyparsing!=3.0.5,>=2.0.2 in c:\\users\\ewa_n\\onedrive\\desktop\\kurs data science\\sda1\\przetwarzaniezbiorowdanych\\venv_ewa_sda\\lib\\site-packages (from packaging->ipykernel) (3.0.9)\n",
      "Requirement already satisfied: parso<0.9.0,>=0.8.0 in c:\\users\\ewa_n\\onedrive\\desktop\\kurs data science\\sda1\\przetwarzaniezbiorowdanych\\venv_ewa_sda\\lib\\site-packages (from jedi>=0.16->ipython>=7.23.1->ipykernel) (0.8.3)\n",
      "Requirement already satisfied: pywin32>=1.0 in c:\\users\\ewa_n\\onedrive\\desktop\\kurs data science\\sda1\\przetwarzaniezbiorowdanych\\venv_ewa_sda\\lib\\site-packages (from jupyter-core>=4.9.2->jupyter-client>=6.1.12->ipykernel) (304)\n",
      "Requirement already satisfied: wcwidth in c:\\users\\ewa_n\\onedrive\\desktop\\kurs data science\\sda1\\przetwarzaniezbiorowdanych\\venv_ewa_sda\\lib\\site-packages (from prompt-toolkit!=3.0.0,!=3.0.1,<3.1.0,>=2.0.0->ipython>=7.23.1->ipykernel) (0.2.5)\n",
      "Requirement already satisfied: six>=1.5 in c:\\users\\ewa_n\\onedrive\\desktop\\kurs data science\\sda1\\przetwarzaniezbiorowdanych\\venv_ewa_sda\\lib\\site-packages (from python-dateutil>=2.8.2->jupyter-client>=6.1.12->ipykernel) (1.16.0)\n",
      "Requirement already satisfied: asttokens in c:\\users\\ewa_n\\onedrive\\desktop\\kurs data science\\sda1\\przetwarzaniezbiorowdanych\\venv_ewa_sda\\lib\\site-packages (from stack-data->ipython>=7.23.1->ipykernel) (2.0.5)\n",
      "Requirement already satisfied: executing in c:\\users\\ewa_n\\onedrive\\desktop\\kurs data science\\sda1\\przetwarzaniezbiorowdanych\\venv_ewa_sda\\lib\\site-packages (from stack-data->ipython>=7.23.1->ipykernel) (0.8.3)\n",
      "Requirement already satisfied: pure-eval in c:\\users\\ewa_n\\onedrive\\desktop\\kurs data science\\sda1\\przetwarzaniezbiorowdanych\\venv_ewa_sda\\lib\\site-packages (from stack-data->ipython>=7.23.1->ipykernel) (0.2.2)\n",
      "Note: you may need to restart the kernel to use updated packages.\n"
     ]
    }
   ],
   "source": [
    "pip install ipykernel"
   ]
  },
  {
   "cell_type": "code",
   "execution_count": null,
   "id": "8167d3f8-24c8-42dc-855f-cf95ec27ea0d",
   "metadata": {},
   "outputs": [],
   "source": [
    "ipython kernel "
   ]
  }
 ],
 "metadata": {
  "kernelspec": {
   "display_name": "Python 3 (ipykernel)",
   "language": "python",
   "name": "python3"
  },
  "language_info": {
   "codemirror_mode": {
    "name": "ipython",
    "version": 3
   },
   "file_extension": ".py",
   "mimetype": "text/x-python",
   "name": "python",
   "nbconvert_exporter": "python",
   "pygments_lexer": "ipython3",
   "version": "3.9.0"
  }
 },
 "nbformat": 4,
 "nbformat_minor": 5
}
